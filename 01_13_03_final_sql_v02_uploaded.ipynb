{
 "cells": [
  {
   "cell_type": "markdown",
   "id": "1b9dd2a9",
   "metadata": {},
   "source": [
    "# Анализ базы данных сервиса для чтения книг по подписке"
   ]
  },
  {
   "cell_type": "markdown",
   "id": "a257542b",
   "metadata": {},
   "source": [
    "## Описание проекта\n",
    "\n",
    "**Задачи проекта:** Используя базу данных сервиса для чтения книг по подписке проанализировать следующие данные:\n",
    "- количество книг, вышедших после 1 января 2000 года\n",
    "- количество обзоров и средняя оценка по книгам\n",
    "- издательство, которое выпустило наибольшее число книг (для книг толще 50 страниц)\n",
    "- автор с самой высокой средней оценкой книг (для книг с 50 и более оценками)\n",
    "- среднее количество обзоров от пользователей, которые поставили больше 50 оценок\n",
    "\n",
    "**Данные для анализа:** База данных сервиса для чтения книг по подписке."
   ]
  },
  {
   "cell_type": "markdown",
   "id": "4456f861",
   "metadata": {},
   "source": [
    "## Импорт библиотек и подключение к базе данных"
   ]
  },
  {
   "cell_type": "code",
   "execution_count": 1,
   "id": "eb36b9fd",
   "metadata": {},
   "outputs": [],
   "source": [
    "# импортируем библиотеки\n",
    "import pandas as pd\n",
    "from sqlalchemy import create_engine\n",
    "# устанавливаем параметры\n",
    "db_config = {'user': '***', # имя пользователя\n",
    "             'pwd': '***', # пароль\n",
    "             'host': '***',\n",
    "             'port': '****', # порт подключения\n",
    "             'db': '***'} # название базы данных\n",
    "connection_string = 'postgresql://{}:{}@{}:{}/{}'.format(db_config['user'],\n",
    "                                                 db_config['pwd'],\n",
    "                                                 db_config['host'],\n",
    "                                                 db_config['port'],\n",
    "                                                 db_config['db'])\n",
    "# сохраняем коннектор\n",
    "engine = create_engine(connection_string, connect_args={'sslmode':'require'}) "
   ]
  },
  {
   "cell_type": "markdown",
   "id": "90808e10",
   "metadata": {},
   "source": [
    "## Изучение таблиц"
   ]
  },
  {
   "cell_type": "code",
   "execution_count": 2,
   "id": "e090970a",
   "metadata": {},
   "outputs": [
    {
     "data": {
      "text/html": [
       "<div>\n",
       "<style scoped>\n",
       "    .dataframe tbody tr th:only-of-type {\n",
       "        vertical-align: middle;\n",
       "    }\n",
       "\n",
       "    .dataframe tbody tr th {\n",
       "        vertical-align: top;\n",
       "    }\n",
       "\n",
       "    .dataframe thead th {\n",
       "        text-align: right;\n",
       "    }\n",
       "</style>\n",
       "<table border=\"1\" class=\"dataframe\">\n",
       "  <thead>\n",
       "    <tr style=\"text-align: right;\">\n",
       "      <th></th>\n",
       "      <th>book_id</th>\n",
       "      <th>author_id</th>\n",
       "      <th>title</th>\n",
       "      <th>num_pages</th>\n",
       "      <th>publication_date</th>\n",
       "      <th>publisher_id</th>\n",
       "    </tr>\n",
       "  </thead>\n",
       "  <tbody>\n",
       "    <tr>\n",
       "      <th>0</th>\n",
       "      <td>1</td>\n",
       "      <td>546</td>\n",
       "      <td>'Salem's Lot</td>\n",
       "      <td>594</td>\n",
       "      <td>2005-11-01</td>\n",
       "      <td>93</td>\n",
       "    </tr>\n",
       "    <tr>\n",
       "      <th>1</th>\n",
       "      <td>2</td>\n",
       "      <td>465</td>\n",
       "      <td>1 000 Places to See Before You Die</td>\n",
       "      <td>992</td>\n",
       "      <td>2003-05-22</td>\n",
       "      <td>336</td>\n",
       "    </tr>\n",
       "    <tr>\n",
       "      <th>2</th>\n",
       "      <td>3</td>\n",
       "      <td>407</td>\n",
       "      <td>13 Little Blue Envelopes (Little Blue Envelope...</td>\n",
       "      <td>322</td>\n",
       "      <td>2010-12-21</td>\n",
       "      <td>135</td>\n",
       "    </tr>\n",
       "    <tr>\n",
       "      <th>3</th>\n",
       "      <td>4</td>\n",
       "      <td>82</td>\n",
       "      <td>1491: New Revelations of the Americas Before C...</td>\n",
       "      <td>541</td>\n",
       "      <td>2006-10-10</td>\n",
       "      <td>309</td>\n",
       "    </tr>\n",
       "    <tr>\n",
       "      <th>4</th>\n",
       "      <td>5</td>\n",
       "      <td>125</td>\n",
       "      <td>1776</td>\n",
       "      <td>386</td>\n",
       "      <td>2006-07-04</td>\n",
       "      <td>268</td>\n",
       "    </tr>\n",
       "  </tbody>\n",
       "</table>\n",
       "</div>"
      ],
      "text/plain": [
       "   book_id  author_id                                              title  \\\n",
       "0        1        546                                       'Salem's Lot   \n",
       "1        2        465                 1 000 Places to See Before You Die   \n",
       "2        3        407  13 Little Blue Envelopes (Little Blue Envelope...   \n",
       "3        4         82  1491: New Revelations of the Americas Before C...   \n",
       "4        5        125                                               1776   \n",
       "\n",
       "   num_pages publication_date  publisher_id  \n",
       "0        594       2005-11-01            93  \n",
       "1        992       2003-05-22           336  \n",
       "2        322       2010-12-21           135  \n",
       "3        541       2006-10-10           309  \n",
       "4        386       2006-07-04           268  "
      ]
     },
     "execution_count": 2,
     "metadata": {},
     "output_type": "execute_result"
    }
   ],
   "source": [
    "query_books = '''\n",
    "           SELECT *\n",
    "           FROM books\n",
    "        '''\n",
    "\n",
    "books = pd.io.sql.read_sql(query_books, con = engine)\n",
    "books.head(5)"
   ]
  },
  {
   "cell_type": "markdown",
   "id": "2137f561",
   "metadata": {},
   "source": [
    "Таблица **books** \n",
    "содержит данные о книгах:\n",
    "- book_id — идентификатор книги;\n",
    "- author_id — идентификатор автора;\n",
    "- title — название книги;\n",
    "- num_pages — количество страниц;\n",
    "- publication_date — дата публикации книги;\n",
    "- publisher_id — идентификатор издателя."
   ]
  },
  {
   "cell_type": "code",
   "execution_count": 3,
   "id": "b48cc48c",
   "metadata": {},
   "outputs": [
    {
     "data": {
      "text/html": [
       "<div>\n",
       "<style scoped>\n",
       "    .dataframe tbody tr th:only-of-type {\n",
       "        vertical-align: middle;\n",
       "    }\n",
       "\n",
       "    .dataframe tbody tr th {\n",
       "        vertical-align: top;\n",
       "    }\n",
       "\n",
       "    .dataframe thead th {\n",
       "        text-align: right;\n",
       "    }\n",
       "</style>\n",
       "<table border=\"1\" class=\"dataframe\">\n",
       "  <thead>\n",
       "    <tr style=\"text-align: right;\">\n",
       "      <th></th>\n",
       "      <th>author_id</th>\n",
       "      <th>author</th>\n",
       "    </tr>\n",
       "  </thead>\n",
       "  <tbody>\n",
       "    <tr>\n",
       "      <th>0</th>\n",
       "      <td>1</td>\n",
       "      <td>A.S. Byatt</td>\n",
       "    </tr>\n",
       "    <tr>\n",
       "      <th>1</th>\n",
       "      <td>2</td>\n",
       "      <td>Aesop/Laura Harris/Laura Gibbs</td>\n",
       "    </tr>\n",
       "    <tr>\n",
       "      <th>2</th>\n",
       "      <td>3</td>\n",
       "      <td>Agatha Christie</td>\n",
       "    </tr>\n",
       "    <tr>\n",
       "      <th>3</th>\n",
       "      <td>4</td>\n",
       "      <td>Alan Brennert</td>\n",
       "    </tr>\n",
       "    <tr>\n",
       "      <th>4</th>\n",
       "      <td>5</td>\n",
       "      <td>Alan Moore/David   Lloyd</td>\n",
       "    </tr>\n",
       "  </tbody>\n",
       "</table>\n",
       "</div>"
      ],
      "text/plain": [
       "   author_id                          author\n",
       "0          1                      A.S. Byatt\n",
       "1          2  Aesop/Laura Harris/Laura Gibbs\n",
       "2          3                 Agatha Christie\n",
       "3          4                   Alan Brennert\n",
       "4          5        Alan Moore/David   Lloyd"
      ]
     },
     "execution_count": 3,
     "metadata": {},
     "output_type": "execute_result"
    }
   ],
   "source": [
    "query_authors = '''\n",
    "           SELECT *\n",
    "           FROM authors\n",
    "        '''\n",
    "\n",
    "authors = pd.io.sql.read_sql(query_authors, con = engine)\n",
    "authors.head(5)"
   ]
  },
  {
   "cell_type": "markdown",
   "id": "e6df992f",
   "metadata": {},
   "source": [
    "Таблица **authors**\n",
    "содержит данные об авторах:\n",
    "- author_id — идентификатор автора;\n",
    "- author — имя автора."
   ]
  },
  {
   "cell_type": "code",
   "execution_count": 4,
   "id": "34aaed87",
   "metadata": {},
   "outputs": [
    {
     "data": {
      "text/html": [
       "<div>\n",
       "<style scoped>\n",
       "    .dataframe tbody tr th:only-of-type {\n",
       "        vertical-align: middle;\n",
       "    }\n",
       "\n",
       "    .dataframe tbody tr th {\n",
       "        vertical-align: top;\n",
       "    }\n",
       "\n",
       "    .dataframe thead th {\n",
       "        text-align: right;\n",
       "    }\n",
       "</style>\n",
       "<table border=\"1\" class=\"dataframe\">\n",
       "  <thead>\n",
       "    <tr style=\"text-align: right;\">\n",
       "      <th></th>\n",
       "      <th>publisher_id</th>\n",
       "      <th>publisher</th>\n",
       "    </tr>\n",
       "  </thead>\n",
       "  <tbody>\n",
       "    <tr>\n",
       "      <th>0</th>\n",
       "      <td>1</td>\n",
       "      <td>Ace</td>\n",
       "    </tr>\n",
       "    <tr>\n",
       "      <th>1</th>\n",
       "      <td>2</td>\n",
       "      <td>Ace Book</td>\n",
       "    </tr>\n",
       "    <tr>\n",
       "      <th>2</th>\n",
       "      <td>3</td>\n",
       "      <td>Ace Books</td>\n",
       "    </tr>\n",
       "    <tr>\n",
       "      <th>3</th>\n",
       "      <td>4</td>\n",
       "      <td>Ace Hardcover</td>\n",
       "    </tr>\n",
       "    <tr>\n",
       "      <th>4</th>\n",
       "      <td>5</td>\n",
       "      <td>Addison Wesley Publishing Company</td>\n",
       "    </tr>\n",
       "  </tbody>\n",
       "</table>\n",
       "</div>"
      ],
      "text/plain": [
       "   publisher_id                          publisher\n",
       "0             1                                Ace\n",
       "1             2                           Ace Book\n",
       "2             3                          Ace Books\n",
       "3             4                      Ace Hardcover\n",
       "4             5  Addison Wesley Publishing Company"
      ]
     },
     "execution_count": 4,
     "metadata": {},
     "output_type": "execute_result"
    }
   ],
   "source": [
    "query_publishers = '''\n",
    "           SELECT *\n",
    "           FROM publishers\n",
    "        '''\n",
    "\n",
    "publishers = pd.io.sql.read_sql(query_publishers, con = engine)\n",
    "publishers.head(5)"
   ]
  },
  {
   "cell_type": "markdown",
   "id": "1455d2cd",
   "metadata": {},
   "source": [
    "Таблица **publishers**\n",
    "содержит данные об издательствах:\n",
    "- publisher_id — идентификатор издательства;\n",
    "- publisher — название издательства."
   ]
  },
  {
   "cell_type": "code",
   "execution_count": 5,
   "id": "2949f11e",
   "metadata": {},
   "outputs": [
    {
     "data": {
      "text/html": [
       "<div>\n",
       "<style scoped>\n",
       "    .dataframe tbody tr th:only-of-type {\n",
       "        vertical-align: middle;\n",
       "    }\n",
       "\n",
       "    .dataframe tbody tr th {\n",
       "        vertical-align: top;\n",
       "    }\n",
       "\n",
       "    .dataframe thead th {\n",
       "        text-align: right;\n",
       "    }\n",
       "</style>\n",
       "<table border=\"1\" class=\"dataframe\">\n",
       "  <thead>\n",
       "    <tr style=\"text-align: right;\">\n",
       "      <th></th>\n",
       "      <th>rating_id</th>\n",
       "      <th>book_id</th>\n",
       "      <th>username</th>\n",
       "      <th>rating</th>\n",
       "    </tr>\n",
       "  </thead>\n",
       "  <tbody>\n",
       "    <tr>\n",
       "      <th>0</th>\n",
       "      <td>1</td>\n",
       "      <td>1</td>\n",
       "      <td>ryanfranco</td>\n",
       "      <td>4</td>\n",
       "    </tr>\n",
       "    <tr>\n",
       "      <th>1</th>\n",
       "      <td>2</td>\n",
       "      <td>1</td>\n",
       "      <td>grantpatricia</td>\n",
       "      <td>2</td>\n",
       "    </tr>\n",
       "    <tr>\n",
       "      <th>2</th>\n",
       "      <td>3</td>\n",
       "      <td>1</td>\n",
       "      <td>brandtandrea</td>\n",
       "      <td>5</td>\n",
       "    </tr>\n",
       "    <tr>\n",
       "      <th>3</th>\n",
       "      <td>4</td>\n",
       "      <td>2</td>\n",
       "      <td>lorichen</td>\n",
       "      <td>3</td>\n",
       "    </tr>\n",
       "    <tr>\n",
       "      <th>4</th>\n",
       "      <td>5</td>\n",
       "      <td>2</td>\n",
       "      <td>mariokeller</td>\n",
       "      <td>2</td>\n",
       "    </tr>\n",
       "  </tbody>\n",
       "</table>\n",
       "</div>"
      ],
      "text/plain": [
       "   rating_id  book_id       username  rating\n",
       "0          1        1     ryanfranco       4\n",
       "1          2        1  grantpatricia       2\n",
       "2          3        1   brandtandrea       5\n",
       "3          4        2       lorichen       3\n",
       "4          5        2    mariokeller       2"
      ]
     },
     "execution_count": 5,
     "metadata": {},
     "output_type": "execute_result"
    }
   ],
   "source": [
    "query_ratings = '''\n",
    "           SELECT *\n",
    "           FROM ratings\n",
    "        '''\n",
    "\n",
    "ratings = pd.io.sql.read_sql(query_ratings, con = engine)\n",
    "ratings.head(5)"
   ]
  },
  {
   "cell_type": "markdown",
   "id": "c464edc9",
   "metadata": {},
   "source": [
    "Таблица **ratings**\n",
    "содержит данные о пользовательских оценках книг:\n",
    "- rating_id — идентификатор оценки;\n",
    "- book_id — идентификатор книги;\n",
    "- username — имя пользователя, оставившего оценку;\n",
    "- rating — оценка книги."
   ]
  },
  {
   "cell_type": "code",
   "execution_count": 6,
   "id": "cda777af",
   "metadata": {},
   "outputs": [
    {
     "data": {
      "text/html": [
       "<div>\n",
       "<style scoped>\n",
       "    .dataframe tbody tr th:only-of-type {\n",
       "        vertical-align: middle;\n",
       "    }\n",
       "\n",
       "    .dataframe tbody tr th {\n",
       "        vertical-align: top;\n",
       "    }\n",
       "\n",
       "    .dataframe thead th {\n",
       "        text-align: right;\n",
       "    }\n",
       "</style>\n",
       "<table border=\"1\" class=\"dataframe\">\n",
       "  <thead>\n",
       "    <tr style=\"text-align: right;\">\n",
       "      <th></th>\n",
       "      <th>review_id</th>\n",
       "      <th>book_id</th>\n",
       "      <th>username</th>\n",
       "      <th>text</th>\n",
       "    </tr>\n",
       "  </thead>\n",
       "  <tbody>\n",
       "    <tr>\n",
       "      <th>0</th>\n",
       "      <td>1</td>\n",
       "      <td>1</td>\n",
       "      <td>brandtandrea</td>\n",
       "      <td>Mention society tell send professor analysis. ...</td>\n",
       "    </tr>\n",
       "    <tr>\n",
       "      <th>1</th>\n",
       "      <td>2</td>\n",
       "      <td>1</td>\n",
       "      <td>ryanfranco</td>\n",
       "      <td>Foot glass pretty audience hit themselves. Amo...</td>\n",
       "    </tr>\n",
       "    <tr>\n",
       "      <th>2</th>\n",
       "      <td>3</td>\n",
       "      <td>2</td>\n",
       "      <td>lorichen</td>\n",
       "      <td>Listen treat keep worry. Miss husband tax but ...</td>\n",
       "    </tr>\n",
       "    <tr>\n",
       "      <th>3</th>\n",
       "      <td>4</td>\n",
       "      <td>3</td>\n",
       "      <td>johnsonamanda</td>\n",
       "      <td>Finally month interesting blue could nature cu...</td>\n",
       "    </tr>\n",
       "    <tr>\n",
       "      <th>4</th>\n",
       "      <td>5</td>\n",
       "      <td>3</td>\n",
       "      <td>scotttamara</td>\n",
       "      <td>Nation purpose heavy give wait song will. List...</td>\n",
       "    </tr>\n",
       "  </tbody>\n",
       "</table>\n",
       "</div>"
      ],
      "text/plain": [
       "   review_id  book_id       username  \\\n",
       "0          1        1   brandtandrea   \n",
       "1          2        1     ryanfranco   \n",
       "2          3        2       lorichen   \n",
       "3          4        3  johnsonamanda   \n",
       "4          5        3    scotttamara   \n",
       "\n",
       "                                                text  \n",
       "0  Mention society tell send professor analysis. ...  \n",
       "1  Foot glass pretty audience hit themselves. Amo...  \n",
       "2  Listen treat keep worry. Miss husband tax but ...  \n",
       "3  Finally month interesting blue could nature cu...  \n",
       "4  Nation purpose heavy give wait song will. List...  "
      ]
     },
     "execution_count": 6,
     "metadata": {},
     "output_type": "execute_result"
    }
   ],
   "source": [
    "query_reviews = '''\n",
    "           SELECT *\n",
    "           FROM reviews\n",
    "        '''\n",
    "\n",
    "reviews = pd.io.sql.read_sql(query_reviews, con = engine)\n",
    "reviews.head(5)"
   ]
  },
  {
   "cell_type": "markdown",
   "id": "0e36cf53",
   "metadata": {},
   "source": [
    "Таблица **reviews**\n",
    "содержит данные о пользовательских обзорах:\n",
    "- review_id — идентификатор обзора;\n",
    "- book_id — идентификатор книги;\n",
    "- username — имя автора обзора;\n",
    "- text — текст обзора."
   ]
  },
  {
   "cell_type": "markdown",
   "id": "46047aa9",
   "metadata": {},
   "source": [
    "### Вывод\n",
    "\n",
    "База данных сервиса книг по подписке содержит 5 таблиц:\n",
    "- books — данные о книгах, \n",
    "- authors – данные об авторах,\n",
    "- publishers – данные об издательствах, \n",
    "- ratings – данные о пользовательских оценках,\n",
    "- reviews - данные о пользовательских обзорах."
   ]
  },
  {
   "cell_type": "markdown",
   "id": "e052524e",
   "metadata": {},
   "source": [
    "## Исследовательский анализ данных"
   ]
  },
  {
   "cell_type": "markdown",
   "id": "ab8f0d15",
   "metadata": {},
   "source": [
    "<a id=\"sql01\"></a> \n",
    "### Количество книг, вышедших после 1 января 2000 года"
   ]
  },
  {
   "cell_type": "code",
   "execution_count": 7,
   "id": "9718f31b",
   "metadata": {},
   "outputs": [
    {
     "data": {
      "text/plain": [
       "819"
      ]
     },
     "execution_count": 7,
     "metadata": {},
     "output_type": "execute_result"
    }
   ],
   "source": [
    "query_01 = '''\n",
    "           SELECT *\n",
    "           FROM books\n",
    "           WHERE CAST(publication_date AS timestamp) > '2000-01-01'\n",
    "        '''\n",
    "\n",
    "books_after_2000 = pd.io.sql.read_sql(query_01, con = engine)\n",
    "len(books_after_2000)"
   ]
  },
  {
   "cell_type": "markdown",
   "id": "122a17ba",
   "metadata": {},
   "source": [
    "#### Вывод\n",
    "\n",
    "После 1 января 2000 года было издано 819 книг."
   ]
  },
  {
   "cell_type": "markdown",
   "id": "2a1357e2",
   "metadata": {},
   "source": [
    "<a id=\"sql02\"></a> \n",
    "### Количество обзоров и средняя оценка по книгам"
   ]
  },
  {
   "cell_type": "code",
   "execution_count": 8,
   "id": "c674d3a0",
   "metadata": {},
   "outputs": [
    {
     "data": {
      "text/html": [
       "<div>\n",
       "<style scoped>\n",
       "    .dataframe tbody tr th:only-of-type {\n",
       "        vertical-align: middle;\n",
       "    }\n",
       "\n",
       "    .dataframe tbody tr th {\n",
       "        vertical-align: top;\n",
       "    }\n",
       "\n",
       "    .dataframe thead th {\n",
       "        text-align: right;\n",
       "    }\n",
       "</style>\n",
       "<table border=\"1\" class=\"dataframe\">\n",
       "  <thead>\n",
       "    <tr style=\"text-align: right;\">\n",
       "      <th></th>\n",
       "      <th>book_id</th>\n",
       "      <th>title</th>\n",
       "      <th>n_reviews</th>\n",
       "      <th>avg_rating</th>\n",
       "    </tr>\n",
       "  </thead>\n",
       "  <tbody>\n",
       "    <tr>\n",
       "      <th>0</th>\n",
       "      <td>17</td>\n",
       "      <td>A Dirty Job (Grim Reaper  #1)</td>\n",
       "      <td>4</td>\n",
       "      <td>5.00</td>\n",
       "    </tr>\n",
       "    <tr>\n",
       "      <th>1</th>\n",
       "      <td>553</td>\n",
       "      <td>School's Out—Forever (Maximum Ride  #2)</td>\n",
       "      <td>3</td>\n",
       "      <td>5.00</td>\n",
       "    </tr>\n",
       "    <tr>\n",
       "      <th>2</th>\n",
       "      <td>444</td>\n",
       "      <td>Moneyball: The Art of Winning an Unfair Game</td>\n",
       "      <td>3</td>\n",
       "      <td>5.00</td>\n",
       "    </tr>\n",
       "    <tr>\n",
       "      <th>3</th>\n",
       "      <td>642</td>\n",
       "      <td>The Big Bad Wolf  (Alex Cross  #9)</td>\n",
       "      <td>2</td>\n",
       "      <td>5.00</td>\n",
       "    </tr>\n",
       "    <tr>\n",
       "      <th>4</th>\n",
       "      <td>967</td>\n",
       "      <td>Welcome to Temptation (Dempseys  #1)</td>\n",
       "      <td>2</td>\n",
       "      <td>5.00</td>\n",
       "    </tr>\n",
       "    <tr>\n",
       "      <th>...</th>\n",
       "      <td>...</td>\n",
       "      <td>...</td>\n",
       "      <td>...</td>\n",
       "      <td>...</td>\n",
       "    </tr>\n",
       "    <tr>\n",
       "      <th>995</th>\n",
       "      <td>915</td>\n",
       "      <td>The World Is Flat: A Brief History of the Twen...</td>\n",
       "      <td>3</td>\n",
       "      <td>2.25</td>\n",
       "    </tr>\n",
       "    <tr>\n",
       "      <th>996</th>\n",
       "      <td>202</td>\n",
       "      <td>Drowning Ruth</td>\n",
       "      <td>3</td>\n",
       "      <td>2.00</td>\n",
       "    </tr>\n",
       "    <tr>\n",
       "      <th>997</th>\n",
       "      <td>316</td>\n",
       "      <td>His Excellency: George Washington</td>\n",
       "      <td>2</td>\n",
       "      <td>2.00</td>\n",
       "    </tr>\n",
       "    <tr>\n",
       "      <th>998</th>\n",
       "      <td>371</td>\n",
       "      <td>Junky</td>\n",
       "      <td>2</td>\n",
       "      <td>2.00</td>\n",
       "    </tr>\n",
       "    <tr>\n",
       "      <th>999</th>\n",
       "      <td>303</td>\n",
       "      <td>Harvesting the Heart</td>\n",
       "      <td>2</td>\n",
       "      <td>1.50</td>\n",
       "    </tr>\n",
       "  </tbody>\n",
       "</table>\n",
       "<p>1000 rows × 4 columns</p>\n",
       "</div>"
      ],
      "text/plain": [
       "     book_id                                              title  n_reviews  \\\n",
       "0         17                      A Dirty Job (Grim Reaper  #1)          4   \n",
       "1        553            School's Out—Forever (Maximum Ride  #2)          3   \n",
       "2        444       Moneyball: The Art of Winning an Unfair Game          3   \n",
       "3        642                 The Big Bad Wolf  (Alex Cross  #9)          2   \n",
       "4        967               Welcome to Temptation (Dempseys  #1)          2   \n",
       "..       ...                                                ...        ...   \n",
       "995      915  The World Is Flat: A Brief History of the Twen...          3   \n",
       "996      202                                      Drowning Ruth          3   \n",
       "997      316                  His Excellency: George Washington          2   \n",
       "998      371                                              Junky          2   \n",
       "999      303                               Harvesting the Heart          2   \n",
       "\n",
       "     avg_rating  \n",
       "0          5.00  \n",
       "1          5.00  \n",
       "2          5.00  \n",
       "3          5.00  \n",
       "4          5.00  \n",
       "..          ...  \n",
       "995        2.25  \n",
       "996        2.00  \n",
       "997        2.00  \n",
       "998        2.00  \n",
       "999        1.50  \n",
       "\n",
       "[1000 rows x 4 columns]"
      ]
     },
     "execution_count": 8,
     "metadata": {},
     "output_type": "execute_result"
    }
   ],
   "source": [
    "query_02 = '''\n",
    "           SELECT b.book_id, \n",
    "                  b.title,\n",
    "                  COUNT(DISTINCT rw.review_id) AS n_reviews, \n",
    "                  ROUND(AVG(rt.rating), 2) AS avg_rating\n",
    "           FROM books AS b\n",
    "           LEFT OUTER JOIN reviews AS rw ON b.book_id = rw.book_id\n",
    "           LEFT OUTER JOIN ratings AS rt ON b.book_id = rt.book_id\n",
    "           GROUP BY b.book_id\n",
    "           ORDER BY avg_rating DESC, n_reviews DESC\n",
    "        '''\n",
    "\n",
    "reviews_ratings = pd.io.sql.read_sql(query_02, con = engine)\n",
    "reviews_ratings"
   ]
  },
  {
   "cell_type": "markdown",
   "id": "5c1cee83",
   "metadata": {},
   "source": [
    "<a id=\"sql03\"></a> \n",
    "### Издательство, которое выпустило наибольшее число книг толще 50 страниц"
   ]
  },
  {
   "cell_type": "code",
   "execution_count": 9,
   "id": "b9fb095c",
   "metadata": {},
   "outputs": [
    {
     "data": {
      "text/html": [
       "<div>\n",
       "<style scoped>\n",
       "    .dataframe tbody tr th:only-of-type {\n",
       "        vertical-align: middle;\n",
       "    }\n",
       "\n",
       "    .dataframe tbody tr th {\n",
       "        vertical-align: top;\n",
       "    }\n",
       "\n",
       "    .dataframe thead th {\n",
       "        text-align: right;\n",
       "    }\n",
       "</style>\n",
       "<table border=\"1\" class=\"dataframe\">\n",
       "  <thead>\n",
       "    <tr style=\"text-align: right;\">\n",
       "      <th></th>\n",
       "      <th>publisher</th>\n",
       "      <th>n_books</th>\n",
       "    </tr>\n",
       "  </thead>\n",
       "  <tbody>\n",
       "    <tr>\n",
       "      <th>0</th>\n",
       "      <td>Penguin Books</td>\n",
       "      <td>42</td>\n",
       "    </tr>\n",
       "  </tbody>\n",
       "</table>\n",
       "</div>"
      ],
      "text/plain": [
       "       publisher  n_books\n",
       "0  Penguin Books       42"
      ]
     },
     "execution_count": 9,
     "metadata": {},
     "output_type": "execute_result"
    }
   ],
   "source": [
    "query_03 = '''\n",
    "           SELECT p.publisher, COUNT(DISTINCT b.book_id) AS n_books\n",
    "           FROM publishers AS p\n",
    "           LEFT OUTER JOIN books AS b ON p.publisher_id = b.publisher_id\n",
    "           WHERE b.num_pages > 50\n",
    "           GROUP BY p.publisher\n",
    "           ORDER BY n_books DESC\n",
    "           LIMIT 1\n",
    "        '''\n",
    "\n",
    "top_publisher = pd.io.sql.read_sql(query_03, con = engine)\n",
    "top_publisher"
   ]
  },
  {
   "cell_type": "markdown",
   "id": "57b01d65",
   "metadata": {},
   "source": [
    "#### Вывод\n",
    "\n",
    "Издательство, которое выпустило наибольшее число книг толще 50 страниц — Penguin Books — 42 книги."
   ]
  },
  {
   "cell_type": "markdown",
   "id": "b4b09f90",
   "metadata": {},
   "source": [
    "<a id=\"sql04\"></a> \n",
    "### Автор с самой высокой средней оценкой книг (для книг с 50 и более оценками)"
   ]
  },
  {
   "cell_type": "code",
   "execution_count": 10,
   "id": "13948a8a",
   "metadata": {},
   "outputs": [
    {
     "data": {
      "text/html": [
       "<div>\n",
       "<style scoped>\n",
       "    .dataframe tbody tr th:only-of-type {\n",
       "        vertical-align: middle;\n",
       "    }\n",
       "\n",
       "    .dataframe tbody tr th {\n",
       "        vertical-align: top;\n",
       "    }\n",
       "\n",
       "    .dataframe thead th {\n",
       "        text-align: right;\n",
       "    }\n",
       "</style>\n",
       "<table border=\"1\" class=\"dataframe\">\n",
       "  <thead>\n",
       "    <tr style=\"text-align: right;\">\n",
       "      <th></th>\n",
       "      <th>author_id</th>\n",
       "      <th>author</th>\n",
       "      <th>avg_rating</th>\n",
       "    </tr>\n",
       "  </thead>\n",
       "  <tbody>\n",
       "    <tr>\n",
       "      <th>0</th>\n",
       "      <td>236</td>\n",
       "      <td>J.K. Rowling/Mary GrandPré</td>\n",
       "      <td>4.287097</td>\n",
       "    </tr>\n",
       "  </tbody>\n",
       "</table>\n",
       "</div>"
      ],
      "text/plain": [
       "   author_id                      author  avg_rating\n",
       "0        236  J.K. Rowling/Mary GrandPré    4.287097"
      ]
     },
     "execution_count": 10,
     "metadata": {},
     "output_type": "execute_result"
    }
   ],
   "source": [
    "query_04 = '''\n",
    "              SELECT books_rating.author_id, a.author, AVG(books_rating.rating) AS avg_rating\n",
    "              FROM (           \n",
    "               SELECT b.author_id, rt.book_id, rt.rating\n",
    "               FROM ratings AS rt\n",
    "               LEFT OUTER JOIN books AS b ON rt.book_id = b.book_id\n",
    "               WHERE rt.book_id IN (SELECT rt.book_id\n",
    "                                   FROM ratings AS rt\n",
    "                                   GROUP BY rt.book_id\n",
    "                                   HAVING COUNT(rt.rating_id) >= 50) \n",
    "                    ) AS books_rating\n",
    "               INNER JOIN authors AS a ON a.author_id = books_rating.author_id\n",
    "               GROUP BY books_rating.author_id, a.author\n",
    "               ORDER BY avg_rating DESC\n",
    "               LIMIT 1\n",
    "                '''\n",
    "         \n",
    "         \n",
    "q04 = pd.io.sql.read_sql(query_04, con = engine)\n",
    "q04"
   ]
  },
  {
   "cell_type": "markdown",
   "id": "d7ba1161",
   "metadata": {},
   "source": [
    "#### Вывод\n",
    "\n",
    "Автор с самой высокой средней оценкой книг (учитывая только книги с 50 и более оценками) — J.K. Rowling/Mary GrandPré."
   ]
  },
  {
   "cell_type": "markdown",
   "id": "5b23de57",
   "metadata": {},
   "source": [
    "<a id=\"sql05\"></a> \n",
    "### Среднее количество обзоров от пользователей, которые поставили больше 50 оценок"
   ]
  },
  {
   "cell_type": "code",
   "execution_count": 11,
   "id": "56375440",
   "metadata": {},
   "outputs": [
    {
     "data": {
      "text/html": [
       "<div>\n",
       "<style scoped>\n",
       "    .dataframe tbody tr th:only-of-type {\n",
       "        vertical-align: middle;\n",
       "    }\n",
       "\n",
       "    .dataframe tbody tr th {\n",
       "        vertical-align: top;\n",
       "    }\n",
       "\n",
       "    .dataframe thead th {\n",
       "        text-align: right;\n",
       "    }\n",
       "</style>\n",
       "<table border=\"1\" class=\"dataframe\">\n",
       "  <thead>\n",
       "    <tr style=\"text-align: right;\">\n",
       "      <th></th>\n",
       "      <th>avg_reviews_qty</th>\n",
       "    </tr>\n",
       "  </thead>\n",
       "  <tbody>\n",
       "    <tr>\n",
       "      <th>0</th>\n",
       "      <td>24.333333</td>\n",
       "    </tr>\n",
       "  </tbody>\n",
       "</table>\n",
       "</div>"
      ],
      "text/plain": [
       "   avg_reviews_qty\n",
       "0        24.333333"
      ]
     },
     "execution_count": 11,
     "metadata": {},
     "output_type": "execute_result"
    }
   ],
   "source": [
    "query_05 = '''\n",
    "        SELECT AVG(n_reviews.n_reviews) AS avg_reviews_qty\n",
    "        FROM (SELECT rw.username, COUNT(rw.review_id) AS n_reviews\n",
    "              FROM reviews AS rw\n",
    "              WHERE rw.username IN (SELECT rt.username\n",
    "                                    FROM ratings AS rt\n",
    "                                    GROUP BY rt.username\n",
    "                                    HAVING COUNT(rt.rating_id) > 50)\n",
    "              GROUP BY rw.username) AS n_reviews\n",
    "            '''\n",
    "         \n",
    "         \n",
    "avg_reviews = pd.io.sql.read_sql(query_05, con = engine)\n",
    "avg_reviews"
   ]
  },
  {
   "cell_type": "markdown",
   "id": "9b073a7f",
   "metadata": {},
   "source": [
    "#### Вывод\n",
    "\n",
    "Среднее количество обзоров от пользователей, которые поставили больше 50 оценок — 24.3."
   ]
  },
  {
   "cell_type": "code",
   "execution_count": null,
   "id": "0f09b146",
   "metadata": {},
   "outputs": [],
   "source": []
  }
 ],
 "metadata": {
  "ExecuteTimeLog": [
   {
    "duration": 8394,
    "start_time": "2022-03-24T14:24:12.424Z"
   },
   {
    "duration": 267,
    "start_time": "2022-03-24T14:24:20.821Z"
   },
   {
    "duration": 95,
    "start_time": "2022-03-24T14:24:28.364Z"
   },
   {
    "duration": 114,
    "start_time": "2022-03-24T14:24:46.461Z"
   },
   {
    "duration": 76,
    "start_time": "2022-03-24T14:25:01.160Z"
   },
   {
    "duration": 77,
    "start_time": "2022-03-24T14:25:25.650Z"
   },
   {
    "duration": 78,
    "start_time": "2022-03-24T14:25:30.162Z"
   },
   {
    "duration": 76,
    "start_time": "2022-03-24T14:25:34.315Z"
   },
   {
    "duration": 77,
    "start_time": "2022-03-24T14:25:50.639Z"
   },
   {
    "duration": 11736,
    "start_time": "2022-03-24T16:47:59.099Z"
   },
   {
    "duration": 102,
    "start_time": "2022-03-24T16:48:10.837Z"
   },
   {
    "duration": 11,
    "start_time": "2022-03-24T16:48:10.940Z"
   },
   {
    "duration": 9,
    "start_time": "2022-03-24T16:48:10.953Z"
   },
   {
    "duration": 27,
    "start_time": "2022-03-24T16:48:10.964Z"
   },
   {
    "duration": 19,
    "start_time": "2022-03-24T16:48:10.993Z"
   },
   {
    "duration": 11,
    "start_time": "2022-03-24T16:48:11.015Z"
   },
   {
    "duration": 26,
    "start_time": "2022-03-24T16:48:11.027Z"
   },
   {
    "duration": 12,
    "start_time": "2022-03-24T16:48:11.054Z"
   },
   {
    "duration": 21,
    "start_time": "2022-03-24T16:48:11.067Z"
   },
   {
    "duration": 15,
    "start_time": "2022-03-24T16:48:11.089Z"
   },
   {
    "duration": 18,
    "start_time": "2022-03-24T16:49:44.966Z"
   },
   {
    "duration": 284,
    "start_time": "2022-03-24T17:04:39.998Z"
   },
   {
    "duration": 25,
    "start_time": "2022-03-24T17:06:31.580Z"
   },
   {
    "duration": 230,
    "start_time": "2022-03-24T17:08:04.207Z"
   },
   {
    "duration": 209,
    "start_time": "2022-03-24T17:08:20.806Z"
   },
   {
    "duration": 209,
    "start_time": "2022-03-24T17:08:27.573Z"
   },
   {
    "duration": 208,
    "start_time": "2022-03-24T17:09:36.179Z"
   },
   {
    "duration": 214,
    "start_time": "2022-03-24T17:09:49.777Z"
   },
   {
    "duration": 213,
    "start_time": "2022-03-24T17:10:13.069Z"
   },
   {
    "duration": 224,
    "start_time": "2022-03-24T17:10:39.482Z"
   },
   {
    "duration": 208,
    "start_time": "2022-03-24T17:10:45.534Z"
   },
   {
    "duration": 17,
    "start_time": "2022-03-24T17:10:57.245Z"
   },
   {
    "duration": 170,
    "start_time": "2022-03-24T17:11:14.398Z"
   },
   {
    "duration": 1218,
    "start_time": "2022-03-24T17:11:34.464Z"
   },
   {
    "duration": 16,
    "start_time": "2022-03-24T17:14:59.579Z"
   },
   {
    "duration": 11752,
    "start_time": "2022-03-24T17:18:01.508Z"
   },
   {
    "duration": 38,
    "start_time": "2022-03-24T17:18:13.262Z"
   },
   {
    "duration": 12,
    "start_time": "2022-03-24T17:18:13.302Z"
   },
   {
    "duration": 13,
    "start_time": "2022-03-24T17:18:13.316Z"
   },
   {
    "duration": 26,
    "start_time": "2022-03-24T17:18:13.331Z"
   },
   {
    "duration": 32,
    "start_time": "2022-03-24T17:18:13.358Z"
   },
   {
    "duration": 14,
    "start_time": "2022-03-24T17:18:13.392Z"
   },
   {
    "duration": 39,
    "start_time": "2022-03-24T17:18:13.408Z"
   },
   {
    "duration": 15,
    "start_time": "2022-03-24T17:18:13.449Z"
   },
   {
    "duration": 20,
    "start_time": "2022-03-24T17:18:13.466Z"
   },
   {
    "duration": 16,
    "start_time": "2022-03-24T17:18:13.488Z"
   },
   {
    "duration": 12,
    "start_time": "2022-03-24T17:18:13.506Z"
   },
   {
    "duration": 11417,
    "start_time": "2022-03-24T17:23:25.240Z"
   },
   {
    "duration": 34,
    "start_time": "2022-03-24T17:23:36.659Z"
   },
   {
    "duration": 12,
    "start_time": "2022-03-24T17:23:36.695Z"
   },
   {
    "duration": 12,
    "start_time": "2022-03-24T17:23:36.709Z"
   },
   {
    "duration": 21,
    "start_time": "2022-03-24T17:23:36.724Z"
   },
   {
    "duration": 34,
    "start_time": "2022-03-24T17:23:36.747Z"
   },
   {
    "duration": 14,
    "start_time": "2022-03-24T17:23:36.783Z"
   },
   {
    "duration": 27,
    "start_time": "2022-03-24T17:23:36.799Z"
   },
   {
    "duration": 12,
    "start_time": "2022-03-24T17:23:36.827Z"
   },
   {
    "duration": 15,
    "start_time": "2022-03-24T17:23:36.841Z"
   },
   {
    "duration": 15,
    "start_time": "2022-03-24T17:23:36.858Z"
   },
   {
    "duration": 17,
    "start_time": "2022-03-24T17:23:36.875Z"
   },
   {
    "duration": 47,
    "start_time": "2022-03-25T08:25:33.793Z"
   },
   {
    "duration": 13971,
    "start_time": "2022-03-25T08:25:45.136Z"
   },
   {
    "duration": 257,
    "start_time": "2022-03-25T08:25:59.109Z"
   },
   {
    "duration": 81,
    "start_time": "2022-03-25T08:25:59.368Z"
   },
   {
    "duration": 300,
    "start_time": "2022-03-25T08:26:12.056Z"
   },
   {
    "duration": 11,
    "start_time": "2022-03-26T11:29:04.148Z"
   },
   {
    "duration": 3,
    "start_time": "2022-03-26T11:29:21.175Z"
   }
  ],
  "kernelspec": {
   "display_name": "Python 3 (ipykernel)",
   "language": "python",
   "name": "python3"
  },
  "language_info": {
   "codemirror_mode": {
    "name": "ipython",
    "version": 3
   },
   "file_extension": ".py",
   "mimetype": "text/x-python",
   "name": "python",
   "nbconvert_exporter": "python",
   "pygments_lexer": "ipython3",
   "version": "3.9.7"
  },
  "toc": {
   "base_numbering": 1,
   "nav_menu": {},
   "number_sections": true,
   "sideBar": true,
   "skip_h1_title": true,
   "title_cell": "Table of Contents",
   "title_sidebar": "Contents",
   "toc_cell": false,
   "toc_position": {},
   "toc_section_display": true,
   "toc_window_display": true
  }
 },
 "nbformat": 4,
 "nbformat_minor": 5
}
